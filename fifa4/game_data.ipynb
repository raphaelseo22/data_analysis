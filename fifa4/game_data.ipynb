{
 "cells": [
  {
   "cell_type": "code",
   "execution_count": 1,
   "id": "84d2f244",
   "metadata": {},
   "outputs": [],
   "source": [
    "import ast\n",
    "import pandas as pd\n",
    "import matplotlib.pyplot as plt"
   ]
  },
  {
   "cell_type": "code",
   "execution_count": 2,
   "id": "0e6783a2",
   "metadata": {},
   "outputs": [],
   "source": [
    "data = pd.read_csv(\"game_data.csv\", index_col=0)"
   ]
  },
  {
   "cell_type": "code",
   "execution_count": 3,
   "id": "4014e879",
   "metadata": {},
   "outputs": [],
   "source": [
    "res_rep = {\"패\":\"Loss\", \"무\":\"Draw\", \"승\":\"Win\"}"
   ]
  },
  {
   "cell_type": "code",
   "execution_count": 4,
   "id": "4ba53ef2",
   "metadata": {},
   "outputs": [],
   "source": [
    "data.Match_result = data.Match_result.replace(res_rep)"
   ]
  },
  {
   "cell_type": "code",
   "execution_count": 5,
   "id": "1bafa0c4",
   "metadata": {},
   "outputs": [],
   "source": [
    "mres = data.Match_result.value_counts()"
   ]
  },
  {
   "cell_type": "code",
   "execution_count": 6,
   "id": "85f0f9d1",
   "metadata": {},
   "outputs": [
    {
     "data": {
      "image/png": "[encoded data removed]",
      "text/plain": [
       "<Figure size 432x288 with 1 Axes>"
      ]
     },
     "metadata": {
      "needs_background": "light"
     },
     "output_type": "display_data"
    }
   ],
   "source": [
    "plt.bar(mres.index, mres.values)\n",
    "plt.title(\"Win Loss Draw\")\n",
    "plt.grid()\n",
    "plt.show()"
   ]
  },
  {
   "cell_type": "markdown",
   "id": "be4d94f9",
   "metadata": {},
   "source": [
    "최근 공식경기 100경기 중 오류가 있는 데이터 1건을 제외한 승률은 약 36% 임"
   ]
  },
  {
   "cell_type": "code",
   "execution_count": 7,
   "id": "73957683",
   "metadata": {},
   "outputs": [],
   "source": [
    "Keyboard = data.loc[data.Controller == \"keyboard\"]"
   ]
  },
  {
   "cell_type": "code",
   "execution_count": 8,
   "id": "f4d79349",
   "metadata": {},
   "outputs": [],
   "source": [
    "Gamepad = data.loc[data.Controller == \"gamepad\"]"
   ]
  },
  {
   "cell_type": "markdown",
   "id": "08a10d80",
   "metadata": {},
   "source": [
    "### 컨트롤러별 승률"
   ]
  },
  {
   "cell_type": "code",
   "execution_count": 76,
   "id": "26a863a2",
   "metadata": {},
   "outputs": [],
   "source": [
    "key_res = Keyboard.Match_result.value_counts(normalize=True)"
   ]
  },
  {
   "cell_type": "code",
   "execution_count": 77,
   "id": "90d96885",
   "metadata": {},
   "outputs": [
    {
     "data": {
      "image/png": "[encoded data removed]",
      "text/plain": [
       "<Figure size 432x288 with 1 Axes>"
      ]
     },
     "metadata": {
      "needs_background": "light"
     },
     "output_type": "display_data"
    }
   ],
   "source": [
    "plt.title(\"keyboard result\")\n",
    "plt.bar(key_res.index, key_res.values)\n",
    "plt.grid()\n",
    "plt.show()"
   ]
  },
  {
   "cell_type": "code",
   "execution_count": 78,
   "id": "20a248ba",
   "metadata": {},
   "outputs": [],
   "source": [
    "pad_res = Gamepad.Match_result.value_counts(normalize=True)"
   ]
  },
  {
   "cell_type": "code",
   "execution_count": 79,
   "id": "68d7408d",
   "metadata": {},
   "outputs": [
    {
     "data": {
      "image/png": "[encoded data removed]",
      "text/plain": [
       "<Figure size 432x288 with 1 Axes>"
      ]
     },
     "metadata": {
      "needs_background": "light"
     },
     "output_type": "display_data"
    }
   ],
   "source": [
    "plt.title(\"gamepad result\")\n",
    "plt.bar(pad_res.index, pad_res.values)\n",
    "plt.grid()\n",
    "plt.show()"
   ]
  },
  {
   "cell_type": "markdown",
   "id": "b2927652",
   "metadata": {},
   "source": [
    "위의 그래프를 보았을 때 키보드로 플레이를 했을 경우에는 약 40% 이상의 패배율을 기록하였지만 패드로 플레이를 했을 경우에는 50% 이상의 승률을 기록하였습니다. 이를 통해 알 수 있는 사실은 제가 플레이 하는데 있어서 키보드보다 패드가 더 알맞기 것입니다."
   ]
  },
  {
   "cell_type": "markdown",
   "id": "f5279784",
   "metadata": {},
   "source": [
    "### 게임패드 득점 분포 "
   ]
  },
  {
   "cell_type": "code",
   "execution_count": 12,
   "id": "a3d30035",
   "metadata": {},
   "outputs": [],
   "source": [
    "gamepad_shoot = []\n",
    "for sd in Gamepad.Shoot_detail:\n",
    "    sd = ast.literal_eval(sd)\n",
    "    for s in sd:\n",
    "        gamepad_shoot.append(s)"
   ]
  },
  {
   "cell_type": "code",
   "execution_count": 13,
   "id": "9239cba6",
   "metadata": {},
   "outputs": [],
   "source": [
    "keyboard_shoot = []\n",
    "for sd in Keyboard.Shoot_detail:\n",
    "    sd = ast.literal_eval(sd)\n",
    "    for s in sd:\n",
    "        keyboard_shoot.append(s)"
   ]
  },
  {
   "cell_type": "code",
   "execution_count": 14,
   "id": "277005e8",
   "metadata": {},
   "outputs": [],
   "source": [
    "shoot_x = []\n",
    "shoot_y = []\n",
    "shoot_res = []\n",
    "shoot_type = []\n",
    "assist_x = []\n",
    "assist_y = []\n",
    "in_penalty = []\n",
    "hit_post = []"
   ]
  },
  {
   "cell_type": "code",
   "execution_count": 15,
   "id": "f73bd16c",
   "metadata": {},
   "outputs": [],
   "source": [
    "for s in gamepad_shoot:\n",
    "    shoot_x.append(s[\"x\"])\n",
    "    shoot_y.append(s[\"y\"])\n",
    "    shoot_res.append(s[\"result\"])\n",
    "    shoot_type.append(s[\"type\"])\n",
    "    assist_x.append(s[\"assistX\"])\n",
    "    assist_y.append(s[\"assistY\"])\n",
    "    in_penalty.append(s[\"inPenalty\"])\n",
    "    hit_post.append(s[\"hitPost\"])"
   ]
  },
  {
   "cell_type": "code",
   "execution_count": 16,
   "id": "bc22eaf4",
   "metadata": {},
   "outputs": [],
   "source": [
    "shoot_dict = {\"shoot_x\":shoot_x, \"shoot_y\":shoot_y, \"shoot_res\":shoot_res,\n",
    "              \"shoot_type\":shoot_type, \"assist_x\":assist_x, \"assist_y\":assist_y,\n",
    "              \"in_penalty\":in_penalty, \"hit_post\":hit_post}"
   ]
  },
  {
   "cell_type": "code",
   "execution_count": 17,
   "id": "6f881bb6",
   "metadata": {},
   "outputs": [],
   "source": [
    "shoot_df = pd.DataFrame(shoot_dict)"
   ]
  },
  {
   "cell_type": "code",
   "execution_count": 18,
   "id": "b4bc1ccc",
   "metadata": {},
   "outputs": [],
   "source": [
    "shoot_res_rp = {1:\"ontarget\", 2:\"offtarget\", 3:\"goal\"}\n",
    "shoot_type_rp = {1:\"normal\", 2:\"finesse\", 3:\"header\", 4:\"lob\", 5:\"flare\", 6:\"low\", 7:\"volley\",\n",
    "                 8:\"free-kick\", 9:\"penalty\", 10:\"knuckle\"}\n",
    "shoot_df.shoot_res = shoot_df.shoot_res.replace(shoot_res_rp)\n",
    "shoot_df.shoot_type = shoot_df.shoot_type.replace(shoot_type_rp)"
   ]
  },
  {
   "cell_type": "code",
   "execution_count": 19,
   "id": "b3151e1e",
   "metadata": {},
   "outputs": [],
   "source": [
    "goal = shoot_df.loc[shoot_df.shoot_res == \"goal\"]\n",
    "goal_type = goal.shoot_type.value_counts()"
   ]
  },
  {
   "cell_type": "code",
   "execution_count": 21,
   "id": "b2b7b0b7",
   "metadata": {
    "scrolled": true
   },
   "outputs": [
    {
     "data": {
      "image/png": "[encoded data removed]",
      "text/plain": [
       "<Figure size 720x360 with 1 Axes>"
      ]
     },
     "metadata": {
      "needs_background": "light"
     },
     "output_type": "display_data"
    }
   ],
   "source": [
    "plt.figure(figsize=(10,5))\n",
    "plt.bar(goal_type.index, goal_type.values)\n",
    "plt.title(\"goal type\")\n",
    "plt.grid()\n",
    "plt.show()"
   ]
  },
  {
   "cell_type": "markdown",
   "id": "7b02dd73",
   "metadata": {},
   "source": [
    "게임패드로 기록한 총 109 골 중 가장 많은 골을 기록한 것은 finesse 슛이고 총 44 골을 기록함. 그 다음으로는 일반 슛팅 헤더 순으로 많은 골을 넣었음"
   ]
  },
  {
   "cell_type": "markdown",
   "id": "5b291fac",
   "metadata": {},
   "source": [
    "### 키보드 득점 분포 "
   ]
  },
  {
   "cell_type": "code",
   "execution_count": 41,
   "id": "d778f8d7",
   "metadata": {},
   "outputs": [],
   "source": [
    "keyboard_shoot = []\n",
    "for sd in Keyboard.Shoot_detail:\n",
    "    sd = ast.literal_eval(sd)\n",
    "    for s in sd:\n",
    "        keyboard_shoot.append(s)"
   ]
  },
  {
   "cell_type": "code",
   "execution_count": 42,
   "id": "6361c5ee",
   "metadata": {},
   "outputs": [],
   "source": [
    "shoot_x = []\n",
    "shoot_y = []\n",
    "shoot_res = []\n",
    "shoot_type = []\n",
    "assist_x = []\n",
    "assist_y = []\n",
    "in_penalty = []\n",
    "hit_post = []"
   ]
  },
  {
   "cell_type": "code",
   "execution_count": 49,
   "id": "dcb1eee6",
   "metadata": {},
   "outputs": [],
   "source": [
    "for s in keyboard_shoot:\n",
    "    shoot_x.append(s[\"x\"])\n",
    "    shoot_y.append(s[\"y\"])\n",
    "    shoot_res.append(s[\"result\"])\n",
    "    shoot_type.append(s[\"type\"])\n",
    "    assist_x.append(s[\"assistX\"])\n",
    "    assist_y.append(s[\"assistY\"])\n",
    "    in_penalty.append(s[\"inPenalty\"])\n",
    "    hit_post.append(s[\"hitPost\"])"
   ]
  },
  {
   "cell_type": "code",
   "execution_count": 50,
   "id": "9677a1d2",
   "metadata": {},
   "outputs": [],
   "source": [
    "shoot_dict = {\"shoot_x\":shoot_x, \"shoot_y\":shoot_y, \"shoot_res\":shoot_res,\n",
    "              \"shoot_type\":shoot_type, \"assist_x\":assist_x, \"assist_y\":assist_y,\n",
    "              \"in_penalty\":in_penalty, \"hit_post\":hit_post}"
   ]
  },
  {
   "cell_type": "code",
   "execution_count": 51,
   "id": "37388e1b",
   "metadata": {},
   "outputs": [],
   "source": [
    "shoot_df = pd.DataFrame(shoot_dict)"
   ]
  },
  {
   "cell_type": "code",
   "execution_count": 52,
   "id": "729db9b3",
   "metadata": {},
   "outputs": [],
   "source": [
    "shoot_df.shoot_res = shoot_df.shoot_res.replace(shoot_res_rp)\n",
    "shoot_df.shoot_type = shoot_df.shoot_type.replace(shoot_type_rp)"
   ]
  },
  {
   "cell_type": "code",
   "execution_count": 53,
   "id": "e6f724ef",
   "metadata": {},
   "outputs": [],
   "source": [
    "goal = shoot_df.loc[shoot_df.shoot_res == \"goal\"]\n",
    "goal_type = goal.shoot_type.value_counts()"
   ]
  },
  {
   "cell_type": "code",
   "execution_count": 54,
   "id": "fc16106e",
   "metadata": {},
   "outputs": [
    {
     "data": {
      "image/png": "[encoded data removed]",
      "text/plain": [
       "<Figure size 720x360 with 1 Axes>"
      ]
     },
     "metadata": {
      "needs_background": "light"
     },
     "output_type": "display_data"
    }
   ],
   "source": [
    "plt.figure(figsize=(10,5))\n",
    "plt.bar(goal_type.index, goal_type.values)\n",
    "plt.title(\"keyboard goal type\")\n",
    "plt.grid()\n",
    "plt.show()"
   ]
  },
  {
   "cell_type": "markdown",
   "id": "3697d6e3",
   "metadata": {},
   "source": [
    "키보드로 플레이를 했을 경우에도 마찬가지로 finesse 슛을 통해 가장 많은 득점을 하였습니다. 뒤를 이어서 일반 슛과 패드와는 다르게 낮은 슛을 활용하여 많은 득점을 기록하였습니다."
   ]
  },
  {
   "cell_type": "markdown",
   "id": "cee40f98",
   "metadata": {},
   "source": [
    "### 게임패드 실점 분포"
   ]
  },
  {
   "cell_type": "code",
   "execution_count": 26,
   "id": "d018c521",
   "metadata": {},
   "outputs": [],
   "source": [
    "op_gamepad_shoot = []\n",
    "for sd in Gamepad.OP_Shoot_detail:\n",
    "    sd = ast.literal_eval(sd)\n",
    "    for s in sd:\n",
    "        op_gamepad_shoot.append(s)"
   ]
  },
  {
   "cell_type": "code",
   "execution_count": 28,
   "id": "9175a6b7",
   "metadata": {},
   "outputs": [],
   "source": [
    "op_shoot_x = []\n",
    "op_shoot_y = []\n",
    "op_shoot_res = []\n",
    "op_shoot_type = []\n",
    "op_assist_x = []\n",
    "op_assist_y = []\n",
    "op_in_penalty = []\n",
    "op_hit_post = []"
   ]
  },
  {
   "cell_type": "code",
   "execution_count": 34,
   "id": "04c47b19",
   "metadata": {},
   "outputs": [],
   "source": [
    "for s in op_gamepad_shoot:\n",
    "    op_shoot_x.append(s[\"x\"])\n",
    "    op_shoot_y.append(s[\"y\"])\n",
    "    op_shoot_res.append(s[\"result\"])\n",
    "    op_shoot_type.append(s[\"type\"])\n",
    "    op_assist_x.append(s[\"assistX\"])\n",
    "    op_assist_y.append(s[\"assistY\"])\n",
    "    op_in_penalty.append(s[\"inPenalty\"])\n",
    "    op_hit_post.append(s[\"hitPost\"])"
   ]
  },
  {
   "cell_type": "code",
   "execution_count": 35,
   "id": "2ad8fadf",
   "metadata": {},
   "outputs": [],
   "source": [
    "op_shoot_dict = {\"shoot_x\":op_shoot_x, \"shoot_y\":op_shoot_y, \"shoot_res\":op_shoot_res,\n",
    "              \"shoot_type\":op_shoot_type, \"assist_x\":op_assist_x, \"assist_y\":op_assist_y,\n",
    "              \"in_penalty\":op_in_penalty, \"hit_post\":op_hit_post}"
   ]
  },
  {
   "cell_type": "code",
   "execution_count": 36,
   "id": "0c70f144",
   "metadata": {},
   "outputs": [],
   "source": [
    "op_shoot_df = pd.DataFrame(op_shoot_dict)\n",
    "op_shoot_df.shoot_res = op_shoot_df.shoot_res.replace(shoot_res_rp)\n",
    "op_shoot_df.shoot_type = op_shoot_df.shoot_type.replace(shoot_type_rp)"
   ]
  },
  {
   "cell_type": "code",
   "execution_count": 37,
   "id": "a28dbaa7",
   "metadata": {},
   "outputs": [],
   "source": [
    "op_goal = op_shoot_df.loc[op_shoot_df.shoot_res == \"goal\"]\n",
    "op_goal_type = op_goal.shoot_type.value_counts()"
   ]
  },
  {
   "cell_type": "code",
   "execution_count": 38,
   "id": "b1638892",
   "metadata": {},
   "outputs": [
    {
     "data": {
      "image/png": "[encoded data removed]",
      "text/plain": [
       "<Figure size 720x360 with 1 Axes>"
      ]
     },
     "metadata": {
      "needs_background": "light"
     },
     "output_type": "display_data"
    }
   ],
   "source": [
    "plt.figure(figsize=(10,5))\n",
    "plt.bar(op_goal_type.index, op_goal_type.values)\n",
    "plt.title(\"opponent goal type\")\n",
    "plt.grid()\n",
    "plt.show()"
   ]
  },
  {
   "cell_type": "markdown",
   "id": "0a51da29",
   "metadata": {},
   "source": [
    "실점은 마찬가지로 finesse 슛이 약 70골 이상으로 많은 골을 실점하였음. 그 다음으로는 일반 슛 그리고 낮은 슛 순으로 많은 골을 실점함\n",
    "이를 바탕으로 패드로 플레이를 했을 때 finesse 슛에 취약하다는 점을 알 수 있음"
   ]
  },
  {
   "cell_type": "markdown",
   "id": "cbe3e0a3",
   "metadata": {},
   "source": [
    "### 키보드 실점 분포"
   ]
  },
  {
   "cell_type": "code",
   "execution_count": 55,
   "id": "69d42140",
   "metadata": {},
   "outputs": [],
   "source": [
    "op_keyboard_shoot = []\n",
    "for sd in Keyboard.OP_Shoot_detail:\n",
    "    sd = ast.literal_eval(sd)\n",
    "    for s in sd:\n",
    "        op_keyboard_shoot.append(s)"
   ]
  },
  {
   "cell_type": "code",
   "execution_count": 56,
   "id": "42be3aa7",
   "metadata": {},
   "outputs": [],
   "source": [
    "op_shoot_x = []\n",
    "op_shoot_y = []\n",
    "op_shoot_res = []\n",
    "op_shoot_type = []\n",
    "op_assist_x = []\n",
    "op_assist_y = []\n",
    "op_in_penalty = []\n",
    "op_hit_post = []"
   ]
  },
  {
   "cell_type": "code",
   "execution_count": 57,
   "id": "bd664a1d",
   "metadata": {},
   "outputs": [],
   "source": [
    "for s in op_keyboard_shoot:\n",
    "    op_shoot_x.append(s[\"x\"])\n",
    "    op_shoot_y.append(s[\"y\"])\n",
    "    op_shoot_res.append(s[\"result\"])\n",
    "    op_shoot_type.append(s[\"type\"])\n",
    "    op_assist_x.append(s[\"assistX\"])\n",
    "    op_assist_y.append(s[\"assistY\"])\n",
    "    op_in_penalty.append(s[\"inPenalty\"])\n",
    "    op_hit_post.append(s[\"hitPost\"])"
   ]
  },
  {
   "cell_type": "code",
   "execution_count": 58,
   "id": "9028ee2e",
   "metadata": {},
   "outputs": [],
   "source": [
    "op_shoot_dict = {\"shoot_x\":op_shoot_x, \"shoot_y\":op_shoot_y, \"shoot_res\":op_shoot_res,\n",
    "              \"shoot_type\":op_shoot_type, \"assist_x\":op_assist_x, \"assist_y\":op_assist_y,\n",
    "              \"in_penalty\":op_in_penalty, \"hit_post\":op_hit_post}"
   ]
  },
  {
   "cell_type": "code",
   "execution_count": 59,
   "id": "9802d6e0",
   "metadata": {},
   "outputs": [],
   "source": [
    "op_shoot_df = pd.DataFrame(op_shoot_dict)\n",
    "op_shoot_df.shoot_res = op_shoot_df.shoot_res.replace(shoot_res_rp)\n",
    "op_shoot_df.shoot_type = op_shoot_df.shoot_type.replace(shoot_type_rp)"
   ]
  },
  {
   "cell_type": "code",
   "execution_count": 60,
   "id": "7b297dd7",
   "metadata": {},
   "outputs": [],
   "source": [
    "op_goal = op_shoot_df.loc[op_shoot_df.shoot_res == \"goal\"]\n",
    "op_goal_type = op_goal.shoot_type.value_counts()"
   ]
  },
  {
   "cell_type": "code",
   "execution_count": 61,
   "id": "ceafb11b",
   "metadata": {},
   "outputs": [
    {
     "data": {
      "image/png": "[encoded data removed]",
      "text/plain": [
       "<Figure size 720x360 with 1 Axes>"
      ]
     },
     "metadata": {
      "needs_background": "light"
     },
     "output_type": "display_data"
    }
   ],
   "source": [
    "plt.figure(figsize=(10,5))\n",
    "plt.bar(op_goal_type.index, op_goal_type.values)\n",
    "plt.title(\"keyboard opponent goal type\")\n",
    "plt.grid()\n",
    "plt.show()"
   ]
  },
  {
   "cell_type": "markdown",
   "id": "ae0ef1d6",
   "metadata": {},
   "source": [
    "키보드를 사용했을 경우에도 마찬가지로 finesse 슛으로 가장 많은 실점 하였고 그와 비슷하게 일반 슛으로 실점하였습니다. 그 다음은 패드와는 다르게 헤더로 많은 실점을 기록하였습니다. "
   ]
  },
  {
   "cell_type": "markdown",
   "id": "4410716d",
   "metadata": {},
   "source": [
    "위의 지표들을 기준으로 알 수 있는 사실은 컨트롤러와 상관없이 득점과 실점 모두 finesse 슛을 통한 기록이 많았습니다. 이를 통해 제가 플레이한 최근 99경기 동안은 finesse 슛이 가장 효율적은 공격루트라고 추론할 수 있습니다."
   ]
  },
  {
   "cell_type": "code",
   "execution_count": null,
   "id": "6bb1f3ab",
   "metadata": {},
   "outputs": [],
   "source": []
  }
 ],
 "metadata": {
  "kernelspec": {
   "display_name": "Python 3 (ipykernel)",
   "language": "python",
   "name": "python3"
  },
  "language_info": {
   "codemirror_mode": {
    "name": "ipython",
    "version": 3
   },
   "file_extension": ".py",
   "mimetype": "text/x-python",
   "name": "python",
   "nbconvert_exporter": "python",
   "pygments_lexer": "ipython3",
   "version": "3.9.12"
  }
 },
 "nbformat": 4,
 "nbformat_minor": 5
}
