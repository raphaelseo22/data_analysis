{
 "cells": [
  {
   "cell_type": "code",
   "execution_count": 1,
   "id": "4e89f266",
   "metadata": {},
   "outputs": [],
   "source": [
    "import pandas as pd\n",
    "import matplotlib.pyplot as plt"
   ]
  },
  {
   "cell_type": "code",
   "execution_count": 11,
   "id": "a26fb11f",
   "metadata": {},
   "outputs": [],
   "source": [
    "data = pd.read_csv(\"lol_item.csv\")"
   ]
  },
  {
   "cell_type": "code",
   "execution_count": 12,
   "id": "19332b5f",
   "metadata": {},
   "outputs": [
    {
     "data": {
      "text/html": [
       "<div>\n",
       "<style scoped>\n",
       "    .dataframe tbody tr th:only-of-type {\n",
       "        vertical-align: middle;\n",
       "    }\n",
       "\n",
       "    .dataframe tbody tr th {\n",
       "        vertical-align: top;\n",
       "    }\n",
       "\n",
       "    .dataframe thead th {\n",
       "        text-align: right;\n",
       "    }\n",
       "</style>\n",
       "<table border=\"1\" class=\"dataframe\">\n",
       "  <thead>\n",
       "    <tr style=\"text-align: right;\">\n",
       "      <th></th>\n",
       "      <th>name</th>\n",
       "      <th>price</th>\n",
       "      <th>option</th>\n",
       "    </tr>\n",
       "  </thead>\n",
       "  <tbody>\n",
       "    <tr>\n",
       "      <th>0</th>\n",
       "      <td>투명 와드</td>\n",
       "      <td>0</td>\n",
       "      <td>&lt;maintext&gt;&lt;stats&gt;&lt;/stats&gt;&lt;active&gt;사용 시 - 장신구:&lt;/...</td>\n",
       "    </tr>\n",
       "    <tr>\n",
       "      <th>1</th>\n",
       "      <td>망원형 개조</td>\n",
       "      <td>0</td>\n",
       "      <td>&lt;maintext&gt;&lt;stats&gt;&lt;/stats&gt;&lt;active&gt;사용 시 - 장신구:&lt;/...</td>\n",
       "    </tr>\n",
       "    <tr>\n",
       "      <th>2</th>\n",
       "      <td>예언자의 렌즈</td>\n",
       "      <td>0</td>\n",
       "      <td>&lt;maintext&gt;&lt;stats&gt;&lt;/stats&gt;&lt;active&gt;사용 시 - 장신구:&lt;/...</td>\n",
       "    </tr>\n",
       "    <tr>\n",
       "      <th>3</th>\n",
       "      <td>원기회복의 완전한 비스킷</td>\n",
       "      <td>0</td>\n",
       "      <td>NaN</td>\n",
       "    </tr>\n",
       "    <tr>\n",
       "      <th>4</th>\n",
       "      <td>허수아비</td>\n",
       "      <td>0</td>\n",
       "      <td>&lt;maintext&gt;&lt;stats&gt;&lt;/stats&gt;&lt;br/&gt;&lt;active&gt;사용 시 - 장...</td>\n",
       "    </tr>\n",
       "    <tr>\n",
       "      <th>...</th>\n",
       "      <td>...</td>\n",
       "      <td>...</td>\n",
       "      <td>...</td>\n",
       "    </tr>\n",
       "    <tr>\n",
       "      <th>200</th>\n",
       "      <td>크라켄 학살자</td>\n",
       "      <td>3400</td>\n",
       "      <td>&lt;maintext&gt;&lt;stats&gt;공격력 &lt;attention&gt;65&lt;/attention&gt;...</td>\n",
       "    </tr>\n",
       "    <tr>\n",
       "      <th>201</th>\n",
       "      <td>불멸의 철갑궁</td>\n",
       "      <td>3400</td>\n",
       "      <td>&lt;maintext&gt;&lt;stats&gt;공격력 &lt;attention&gt;50&lt;/attention&gt;...</td>\n",
       "    </tr>\n",
       "    <tr>\n",
       "      <th>202</th>\n",
       "      <td>나보리 신속검</td>\n",
       "      <td>3400</td>\n",
       "      <td>&lt;maintext&gt;&lt;stats&gt;공격력 &lt;attention&gt;60&lt;/attention&gt;...</td>\n",
       "    </tr>\n",
       "    <tr>\n",
       "      <th>203</th>\n",
       "      <td>굶주린 히드라</td>\n",
       "      <td>3400</td>\n",
       "      <td>&lt;maintext&gt;&lt;stats&gt;공격력 &lt;attention&gt;65&lt;/attention&gt;...</td>\n",
       "    </tr>\n",
       "    <tr>\n",
       "      <th>204</th>\n",
       "      <td>라바돈의 죽음모자</td>\n",
       "      <td>3600</td>\n",
       "      <td>&lt;maintext&gt;&lt;stats&gt;주문력 &lt;attention&gt;120&lt;/attention...</td>\n",
       "    </tr>\n",
       "  </tbody>\n",
       "</table>\n",
       "<p>205 rows × 3 columns</p>\n",
       "</div>"
      ],
      "text/plain": [
       "              name  price                                             option\n",
       "0            투명 와드      0  <maintext><stats></stats><active>사용 시 - 장신구:</...\n",
       "1           망원형 개조      0  <maintext><stats></stats><active>사용 시 - 장신구:</...\n",
       "2          예언자의 렌즈      0  <maintext><stats></stats><active>사용 시 - 장신구:</...\n",
       "3    원기회복의 완전한 비스킷      0                                                NaN\n",
       "4             허수아비      0  <maintext><stats></stats><br/><active>사용 시 - 장...\n",
       "..             ...    ...                                                ...\n",
       "200        크라켄 학살자   3400  <maintext><stats>공격력 <attention>65</attention>...\n",
       "201        불멸의 철갑궁   3400  <maintext><stats>공격력 <attention>50</attention>...\n",
       "202        나보리 신속검   3400  <maintext><stats>공격력 <attention>60</attention>...\n",
       "203        굶주린 히드라   3400  <maintext><stats>공격력 <attention>65</attention>...\n",
       "204      라바돈의 죽음모자   3600  <maintext><stats>주문력 <attention>120</attention...\n",
       "\n",
       "[205 rows x 3 columns]"
      ]
     },
     "execution_count": 12,
     "metadata": {},
     "output_type": "execute_result"
    }
   ],
   "source": [
    "data"
   ]
  },
  {
   "cell_type": "code",
   "execution_count": null,
   "id": "23846445",
   "metadata": {},
   "outputs": [],
   "source": []
  }
 ],
 "metadata": {
  "kernelspec": {
   "display_name": "datascience",
   "language": "python",
   "name": "datascience"
  },
  "language_info": {
   "codemirror_mode": {
    "name": "ipython",
    "version": 3
   },
   "file_extension": ".py",
   "mimetype": "text/x-python",
   "name": "python",
   "nbconvert_exporter": "python",
   "pygments_lexer": "ipython3",
   "version": "3.9.13"
  }
 },
 "nbformat": 4,
 "nbformat_minor": 5
}
