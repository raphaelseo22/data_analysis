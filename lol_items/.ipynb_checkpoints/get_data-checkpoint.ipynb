{
 "cells": [
  {
   "cell_type": "code",
   "execution_count": 1,
   "id": "0b6ad4ec",
   "metadata": {},
   "outputs": [],
   "source": [
    "import re\n",
    "import requests\n",
    "import pandas as pd\n",
    "from bs4 import BeautifulSoup as bs"
   ]
  },
  {
   "cell_type": "code",
   "execution_count": 2,
   "id": "d32aceaa",
   "metadata": {},
   "outputs": [],
   "source": [
    "url = \"https://lol.inven.co.kr/dataninfo/item/list.php\""
   ]
  },
  {
   "cell_type": "code",
   "execution_count": 3,
   "id": "1acdc99e",
   "metadata": {},
   "outputs": [],
   "source": [
    "req = requests.get(url)"
   ]
  },
  {
   "cell_type": "code",
   "execution_count": 4,
   "id": "8b4256a8",
   "metadata": {},
   "outputs": [],
   "source": [
    "soup = bs(req.content, \"html.parser\")"
   ]
  },
  {
   "cell_type": "code",
   "execution_count": 5,
   "id": "4f472045",
   "metadata": {},
   "outputs": [],
   "source": [
    "names = []\n",
    "for n in soup.select(\"td.left.itemname > div.name\"):\n",
    "    names.append(n.text)"
   ]
  },
  {
   "cell_type": "code",
   "execution_count": 6,
   "id": "5876babb",
   "metadata": {
    "scrolled": true
   },
   "outputs": [
    {
     "data": {
      "text/plain": [
       "210"
      ]
     },
     "execution_count": 6,
     "metadata": {},
     "output_type": "execute_result"
    }
   ],
   "source": [
    "len(names)"
   ]
  },
  {
   "cell_type": "code",
   "execution_count": 7,
   "id": "7072e75d",
   "metadata": {},
   "outputs": [],
   "source": [
    "price = []\n",
    "for p in soup.select(\"td.left.itemprice\"):\n",
    "    price.append(int(p.text))"
   ]
  },
  {
   "cell_type": "code",
   "execution_count": 8,
   "id": "f3885cd4",
   "metadata": {
    "scrolled": true
   },
   "outputs": [],
   "source": [
    "option = []\n",
    "for s in soup.select(\"td.left.itemoption\"):\n",
    "    option.append(s.maintext)"
   ]
  },
  {
   "cell_type": "code",
   "execution_count": 9,
   "id": "334d556d",
   "metadata": {},
   "outputs": [
    {
     "data": {
      "text/plain": [
       "210"
      ]
     },
     "execution_count": 9,
     "metadata": {},
     "output_type": "execute_result"
    }
   ],
   "source": [
    "len(option)"
   ]
  },
  {
   "cell_type": "code",
   "execution_count": 10,
   "id": "0fae9a24",
   "metadata": {},
   "outputs": [],
   "source": [
    "item_type = soup.select(\"div.itemtype > img\")"
   ]
  },
  {
   "cell_type": "code",
   "execution_count": 11,
   "id": "4c990d74",
   "metadata": {},
   "outputs": [
    {
     "data": {
      "text/plain": [
       "210"
      ]
     },
     "execution_count": 11,
     "metadata": {},
     "output_type": "execute_result"
    }
   ],
   "source": [
    "len(item_type)"
   ]
  },
  {
   "cell_type": "code",
   "execution_count": 12,
   "id": "5ae1d24a",
   "metadata": {},
   "outputs": [],
   "source": [
    "data = {\"name\":names, \"price\":price, \"option\":option}"
   ]
  },
  {
   "cell_type": "code",
   "execution_count": 13,
   "id": "d0dc9597",
   "metadata": {},
   "outputs": [],
   "source": [
    "df = pd.DataFrame(data)"
   ]
  },
  {
   "cell_type": "code",
   "execution_count": 14,
   "id": "6df08784",
   "metadata": {},
   "outputs": [],
   "source": [
    "howlig_abyss = [\"수호자의 뿔피리\", \"수호자의 망치\", \"수호자의 보주\", \"수호자의 검\", \"예언자의 추출액\"]"
   ]
  },
  {
   "cell_type": "code",
   "execution_count": 15,
   "id": "f070fcc2",
   "metadata": {},
   "outputs": [],
   "source": [
    "idx = df.loc[df.name.isin(howlig_abyss)].index"
   ]
  },
  {
   "cell_type": "code",
   "execution_count": 16,
   "id": "002bb630",
   "metadata": {
    "scrolled": true
   },
   "outputs": [
    {
     "name": "stdout",
     "output_type": "stream",
     "text": [
      "Int64Index([20, 76, 78, 79, 80], dtype='int64')\n"
     ]
    }
   ],
   "source": [
    "print(idx)"
   ]
  },
  {
   "cell_type": "code",
   "execution_count": 17,
   "id": "8acc8c72",
   "metadata": {},
   "outputs": [],
   "source": [
    "df = df.drop(idx)"
   ]
  },
  {
   "cell_type": "code",
   "execution_count": 18,
   "id": "38363211",
   "metadata": {},
   "outputs": [],
   "source": [
    "index = []\n",
    "for i in range(len(df[\"name\"])):\n",
    "    index.append(i)"
   ]
  },
  {
   "cell_type": "code",
   "execution_count": 19,
   "id": "a1d55142",
   "metadata": {},
   "outputs": [],
   "source": [
    "df[\"idx\"] = index"
   ]
  },
  {
   "cell_type": "code",
   "execution_count": 20,
   "id": "f3448faf",
   "metadata": {},
   "outputs": [],
   "source": [
    "df = df[[\"idx\", \"name\", \"price\", \"option\"]]"
   ]
  },
  {
   "cell_type": "code",
   "execution_count": 21,
   "id": "f8a41923",
   "metadata": {},
   "outputs": [],
   "source": [
    "df.to_csv(\"lol_item.csv\", index=None)"
   ]
  },
  {
   "cell_type": "code",
   "execution_count": 22,
   "id": "653e0c72",
   "metadata": {},
   "outputs": [],
   "source": [
    "stats = [\"공격력\", \"공격속도\", \"방어구관통력\", \"치명타확률\", \"생명력흡수\", \"방어력\", \"체력\",\n",
    "         \"기본체력재생\", \"마법저항력\", \"주문력\", \"스킬가속\", \"마나\",\n",
    "         \"기본마나재생\", \"모든피해흡혈\", \"마법관통력\", \"이동속도\"]\n",
    "\n",
    "stats_dict = {}\n",
    "stats_dict[\"idx\"] = []\n",
    "stats_dict[\"공격력\"] = []\n",
    "stats_dict[\"공격속도\"] = []\n",
    "stats_dict[\"방어구관통력\"] = []\n",
    "stats_dict[\"치명타확률\"] = []\n",
    "stats_dict[\"생명력흡수\"] = []\n",
    "stats_dict[\"방어력\"] = []\n",
    "stats_dict[\"체력\"] = []\n",
    "stats_dict[\"기본체력재생\"] = []\n",
    "stats_dict[\"마법저항력\"] = []\n",
    "stats_dict[\"주문력\"] = []\n",
    "stats_dict[\"스킬가속\"] = []\n",
    "stats_dict[\"마나\"] = []\n",
    "stats_dict[\"기본마나재생\"] = []\n",
    "stats_dict[\"모든피해흡혈\"] = []\n",
    "stats_dict[\"마법관통력\"] = []\n",
    "stats_dict[\"이동속도\"] = []"
   ]
  },
  {
   "cell_type": "code",
   "execution_count": 23,
   "id": "7c38e56e",
   "metadata": {},
   "outputs": [],
   "source": [
    "for idx, sp in enumerate(soup.select(\"td.left.itemoption > maintext > stats\")):\n",
    "    stats_dict[\"idx\"].append(idx)\n",
    "    sp = sp.text\n",
    "    sp = sp.replace(\" \", \"\")\n",
    "    sp = sp.replace(\"%\", \"\")\n",
    "    sp = sp.replace(\"10초당\", \"\")\n",
    "    s = \"\"\n",
    "    n = \"\"\n",
    "    for i in sp:\n",
    "        try:\n",
    "            int(i)\n",
    "            n += i\n",
    "            s += \" \"\n",
    "        except:\n",
    "            s += i\n",
    "            n += \" \"\n",
    "    s_list = re.split(\"\\s+\", s)\n",
    "    s_list = [i for i in s_list if i != \"\"]\n",
    "    n_list = re.split(\"\\s+\", n)\n",
    "    n_list = [i for i in n_list if i != \"\"]\n",
    "    if not len(s_list) == 0:\n",
    "        for idx2, stat in enumerate(s_list):\n",
    "            if stat in stats:\n",
    "                stats_dict[stat].append(n_list[idx2])\n",
    "        t_list = [t for t in stats if t not in s_list]\n",
    "        for t in t_list:\n",
    "            stats_dict[t].append(0)\n",
    "    else:\n",
    "        for s in stats: stats_dict[s].append(0)"
   ]
  },
  {
   "cell_type": "code",
   "execution_count": 24,
   "id": "da6eb9a8",
   "metadata": {},
   "outputs": [
    {
     "data": {
      "text/plain": [
       "['120']"
      ]
     },
     "execution_count": 24,
     "metadata": {},
     "output_type": "execute_result"
    }
   ],
   "source": [
    "n_list"
   ]
  },
  {
   "cell_type": "code",
   "execution_count": 25,
   "id": "7da773de",
   "metadata": {},
   "outputs": [
    {
     "data": {
      "text/plain": [
       "['주문력']"
      ]
     },
     "execution_count": 25,
     "metadata": {},
     "output_type": "execute_result"
    }
   ],
   "source": [
    "str_list = re.split(\"\\s+\", s)\n",
    "[i for i in str_list if i != \"\"]"
   ]
  },
  {
   "cell_type": "code",
   "execution_count": 26,
   "id": "390a1767",
   "metadata": {},
   "outputs": [
    {
     "data": {
      "text/plain": [
       "['120']"
      ]
     },
     "execution_count": 26,
     "metadata": {},
     "output_type": "execute_result"
    }
   ],
   "source": [
    "num_list = re.split(\"\\s+\", n)\n",
    "[i for i in num_list if i != \"\"]"
   ]
  },
  {
   "cell_type": "code",
   "execution_count": 27,
   "id": "2b102423",
   "metadata": {},
   "outputs": [
    {
     "data": {
      "text/plain": [
       "<stats>주문력 <attention>8</attention><br/>체력 <attention>10</attention><br/>기본 마나 재생 <attention>25%</attention><br/>10초당 골드 <attention>2</attention></stats>"
      ]
     },
     "execution_count": 27,
     "metadata": {},
     "output_type": "execute_result"
    }
   ],
   "source": [
    "soup.select(\"td.left.itemoption > maintext > stats\")[23]"
   ]
  },
  {
   "cell_type": "code",
   "execution_count": 28,
   "id": "300fa6ac",
   "metadata": {},
   "outputs": [],
   "source": [
    "sp = soup.select(\"td.left.itemoption > maintext > stats\")[23]\n",
    "sp = sp.text\n",
    "sp = sp.replace(\" \", \"\")\n",
    "sp = sp.replace(\"%\", \"\")\n",
    "sp = sp.replace(\"10초당\", \"\")"
   ]
  },
  {
   "cell_type": "code",
   "execution_count": 29,
   "id": "a1de32ed",
   "metadata": {},
   "outputs": [
    {
     "data": {
      "text/plain": [
       "'주문력8체력10기본마나재생25골드2'"
      ]
     },
     "execution_count": 29,
     "metadata": {},
     "output_type": "execute_result"
    }
   ],
   "source": [
    "sp"
   ]
  },
  {
   "cell_type": "code",
   "execution_count": 30,
   "id": "3457b6b7",
   "metadata": {},
   "outputs": [],
   "source": [
    "stats_df = pd.DataFrame(stats_dict)"
   ]
  },
  {
   "cell_type": "code",
   "execution_count": 31,
   "id": "7c3c0e79",
   "metadata": {},
   "outputs": [],
   "source": [
    "stats_df.to_csv(\"stats.csv\", index=None)"
   ]
  },
  {
   "cell_type": "code",
   "execution_count": 32,
   "id": "bab0b466",
   "metadata": {},
   "outputs": [
    {
     "data": {
      "text/html": [
       "<div>\n",
       "<style scoped>\n",
       "    .dataframe tbody tr th:only-of-type {\n",
       "        vertical-align: middle;\n",
       "    }\n",
       "\n",
       "    .dataframe tbody tr th {\n",
       "        vertical-align: top;\n",
       "    }\n",
       "\n",
       "    .dataframe thead th {\n",
       "        text-align: right;\n",
       "    }\n",
       "</style>\n",
       "<table border=\"1\" class=\"dataframe\">\n",
       "  <thead>\n",
       "    <tr style=\"text-align: right;\">\n",
       "      <th></th>\n",
       "      <th>idx</th>\n",
       "      <th>공격력</th>\n",
       "      <th>공격속도</th>\n",
       "      <th>방어구관통력</th>\n",
       "      <th>치명타확률</th>\n",
       "      <th>생명력흡수</th>\n",
       "      <th>방어력</th>\n",
       "      <th>체력</th>\n",
       "      <th>기본체력재생</th>\n",
       "      <th>마법저항력</th>\n",
       "      <th>주문력</th>\n",
       "      <th>스킬가속</th>\n",
       "      <th>마나</th>\n",
       "      <th>기본마나재생</th>\n",
       "      <th>모든피해흡혈</th>\n",
       "      <th>마법관통력</th>\n",
       "      <th>이동속도</th>\n",
       "    </tr>\n",
       "  </thead>\n",
       "  <tbody>\n",
       "    <tr>\n",
       "      <th>0</th>\n",
       "      <td>0</td>\n",
       "      <td>0</td>\n",
       "      <td>0</td>\n",
       "      <td>0</td>\n",
       "      <td>0</td>\n",
       "      <td>0</td>\n",
       "      <td>0</td>\n",
       "      <td>0</td>\n",
       "      <td>0</td>\n",
       "      <td>0</td>\n",
       "      <td>0</td>\n",
       "      <td>0</td>\n",
       "      <td>0</td>\n",
       "      <td>0</td>\n",
       "      <td>0</td>\n",
       "      <td>0</td>\n",
       "      <td>0</td>\n",
       "    </tr>\n",
       "    <tr>\n",
       "      <th>1</th>\n",
       "      <td>1</td>\n",
       "      <td>0</td>\n",
       "      <td>0</td>\n",
       "      <td>0</td>\n",
       "      <td>0</td>\n",
       "      <td>0</td>\n",
       "      <td>0</td>\n",
       "      <td>0</td>\n",
       "      <td>0</td>\n",
       "      <td>0</td>\n",
       "      <td>0</td>\n",
       "      <td>0</td>\n",
       "      <td>0</td>\n",
       "      <td>0</td>\n",
       "      <td>0</td>\n",
       "      <td>0</td>\n",
       "      <td>0</td>\n",
       "    </tr>\n",
       "    <tr>\n",
       "      <th>2</th>\n",
       "      <td>2</td>\n",
       "      <td>0</td>\n",
       "      <td>0</td>\n",
       "      <td>0</td>\n",
       "      <td>0</td>\n",
       "      <td>0</td>\n",
       "      <td>0</td>\n",
       "      <td>0</td>\n",
       "      <td>0</td>\n",
       "      <td>0</td>\n",
       "      <td>0</td>\n",
       "      <td>0</td>\n",
       "      <td>0</td>\n",
       "      <td>0</td>\n",
       "      <td>0</td>\n",
       "      <td>0</td>\n",
       "      <td>0</td>\n",
       "    </tr>\n",
       "    <tr>\n",
       "      <th>3</th>\n",
       "      <td>3</td>\n",
       "      <td>0</td>\n",
       "      <td>0</td>\n",
       "      <td>0</td>\n",
       "      <td>0</td>\n",
       "      <td>0</td>\n",
       "      <td>0</td>\n",
       "      <td>0</td>\n",
       "      <td>0</td>\n",
       "      <td>0</td>\n",
       "      <td>0</td>\n",
       "      <td>0</td>\n",
       "      <td>0</td>\n",
       "      <td>0</td>\n",
       "      <td>0</td>\n",
       "      <td>0</td>\n",
       "      <td>0</td>\n",
       "    </tr>\n",
       "    <tr>\n",
       "      <th>4</th>\n",
       "      <td>4</td>\n",
       "      <td>0</td>\n",
       "      <td>0</td>\n",
       "      <td>0</td>\n",
       "      <td>0</td>\n",
       "      <td>0</td>\n",
       "      <td>0</td>\n",
       "      <td>0</td>\n",
       "      <td>0</td>\n",
       "      <td>0</td>\n",
       "      <td>0</td>\n",
       "      <td>0</td>\n",
       "      <td>0</td>\n",
       "      <td>0</td>\n",
       "      <td>0</td>\n",
       "      <td>0</td>\n",
       "      <td>0</td>\n",
       "    </tr>\n",
       "    <tr>\n",
       "      <th>...</th>\n",
       "      <td>...</td>\n",
       "      <td>...</td>\n",
       "      <td>...</td>\n",
       "      <td>...</td>\n",
       "      <td>...</td>\n",
       "      <td>...</td>\n",
       "      <td>...</td>\n",
       "      <td>...</td>\n",
       "      <td>...</td>\n",
       "      <td>...</td>\n",
       "      <td>...</td>\n",
       "      <td>...</td>\n",
       "      <td>...</td>\n",
       "      <td>...</td>\n",
       "      <td>...</td>\n",
       "      <td>...</td>\n",
       "      <td>...</td>\n",
       "    </tr>\n",
       "    <tr>\n",
       "      <th>200</th>\n",
       "      <td>200</td>\n",
       "      <td>65</td>\n",
       "      <td>25</td>\n",
       "      <td>0</td>\n",
       "      <td>20</td>\n",
       "      <td>0</td>\n",
       "      <td>0</td>\n",
       "      <td>0</td>\n",
       "      <td>0</td>\n",
       "      <td>0</td>\n",
       "      <td>0</td>\n",
       "      <td>0</td>\n",
       "      <td>0</td>\n",
       "      <td>0</td>\n",
       "      <td>0</td>\n",
       "      <td>0</td>\n",
       "      <td>0</td>\n",
       "    </tr>\n",
       "    <tr>\n",
       "      <th>201</th>\n",
       "      <td>201</td>\n",
       "      <td>50</td>\n",
       "      <td>20</td>\n",
       "      <td>0</td>\n",
       "      <td>20</td>\n",
       "      <td>7</td>\n",
       "      <td>0</td>\n",
       "      <td>0</td>\n",
       "      <td>0</td>\n",
       "      <td>0</td>\n",
       "      <td>0</td>\n",
       "      <td>0</td>\n",
       "      <td>0</td>\n",
       "      <td>0</td>\n",
       "      <td>0</td>\n",
       "      <td>0</td>\n",
       "      <td>0</td>\n",
       "    </tr>\n",
       "    <tr>\n",
       "      <th>202</th>\n",
       "      <td>202</td>\n",
       "      <td>60</td>\n",
       "      <td>0</td>\n",
       "      <td>0</td>\n",
       "      <td>20</td>\n",
       "      <td>0</td>\n",
       "      <td>0</td>\n",
       "      <td>0</td>\n",
       "      <td>0</td>\n",
       "      <td>0</td>\n",
       "      <td>0</td>\n",
       "      <td>20</td>\n",
       "      <td>0</td>\n",
       "      <td>0</td>\n",
       "      <td>0</td>\n",
       "      <td>0</td>\n",
       "      <td>0</td>\n",
       "    </tr>\n",
       "    <tr>\n",
       "      <th>203</th>\n",
       "      <td>203</td>\n",
       "      <td>65</td>\n",
       "      <td>0</td>\n",
       "      <td>0</td>\n",
       "      <td>0</td>\n",
       "      <td>10</td>\n",
       "      <td>0</td>\n",
       "      <td>0</td>\n",
       "      <td>0</td>\n",
       "      <td>0</td>\n",
       "      <td>0</td>\n",
       "      <td>25</td>\n",
       "      <td>0</td>\n",
       "      <td>0</td>\n",
       "      <td>0</td>\n",
       "      <td>0</td>\n",
       "      <td>0</td>\n",
       "    </tr>\n",
       "    <tr>\n",
       "      <th>204</th>\n",
       "      <td>204</td>\n",
       "      <td>0</td>\n",
       "      <td>0</td>\n",
       "      <td>0</td>\n",
       "      <td>0</td>\n",
       "      <td>0</td>\n",
       "      <td>0</td>\n",
       "      <td>0</td>\n",
       "      <td>0</td>\n",
       "      <td>0</td>\n",
       "      <td>120</td>\n",
       "      <td>0</td>\n",
       "      <td>0</td>\n",
       "      <td>0</td>\n",
       "      <td>0</td>\n",
       "      <td>0</td>\n",
       "      <td>0</td>\n",
       "    </tr>\n",
       "  </tbody>\n",
       "</table>\n",
       "<p>205 rows × 17 columns</p>\n",
       "</div>"
      ],
      "text/plain": [
       "     idx 공격력 공격속도 방어구관통력 치명타확률 생명력흡수 방어력 체력 기본체력재생 마법저항력  주문력 스킬가속 마나 기본마나재생  \\\n",
       "0      0   0    0      0     0     0   0  0      0     0    0    0  0      0   \n",
       "1      1   0    0      0     0     0   0  0      0     0    0    0  0      0   \n",
       "2      2   0    0      0     0     0   0  0      0     0    0    0  0      0   \n",
       "3      3   0    0      0     0     0   0  0      0     0    0    0  0      0   \n",
       "4      4   0    0      0     0     0   0  0      0     0    0    0  0      0   \n",
       "..   ...  ..  ...    ...   ...   ...  .. ..    ...   ...  ...  ... ..    ...   \n",
       "200  200  65   25      0    20     0   0  0      0     0    0    0  0      0   \n",
       "201  201  50   20      0    20     7   0  0      0     0    0    0  0      0   \n",
       "202  202  60    0      0    20     0   0  0      0     0    0   20  0      0   \n",
       "203  203  65    0      0     0    10   0  0      0     0    0   25  0      0   \n",
       "204  204   0    0      0     0     0   0  0      0     0  120    0  0      0   \n",
       "\n",
       "    모든피해흡혈 마법관통력 이동속도  \n",
       "0        0     0    0  \n",
       "1        0     0    0  \n",
       "2        0     0    0  \n",
       "3        0     0    0  \n",
       "4        0     0    0  \n",
       "..     ...   ...  ...  \n",
       "200      0     0    0  \n",
       "201      0     0    0  \n",
       "202      0     0    0  \n",
       "203      0     0    0  \n",
       "204      0     0    0  \n",
       "\n",
       "[205 rows x 17 columns]"
      ]
     },
     "execution_count": 32,
     "metadata": {},
     "output_type": "execute_result"
    }
   ],
   "source": [
    "stats_df"
   ]
  }
 ],
 "metadata": {
  "kernelspec": {
   "display_name": "Python 3 (ipykernel)",
   "language": "python",
   "name": "python3"
  },
  "language_info": {
   "codemirror_mode": {
    "name": "ipython",
    "version": 3
   },
   "file_extension": ".py",
   "mimetype": "text/x-python",
   "name": "python",
   "nbconvert_exporter": "python",
   "pygments_lexer": "ipython3",
   "version": "3.9.12"
  }
 },
 "nbformat": 4,
 "nbformat_minor": 5
}
